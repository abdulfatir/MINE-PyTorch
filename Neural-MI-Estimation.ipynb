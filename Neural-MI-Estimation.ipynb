{
 "cells": [
  {
   "cell_type": "markdown",
   "metadata": {},
   "source": [
    "# Neural Mutual Information Estimation"
   ]
  },
  {
   "cell_type": "code",
   "execution_count": 1,
   "metadata": {
    "ExecuteTime": {
     "end_time": "2018-09-01T10:50:57.500203Z",
     "start_time": "2018-09-01T10:50:57.410673Z"
    }
   },
   "outputs": [],
   "source": [
    "%matplotlib inline\n",
    "import torch\n",
    "from torch.autograd import Variable\n",
    "import torch.nn as nn\n",
    "import torch.nn.functional as F\n",
    "from tqdm import tqdm\n",
    "import numpy as np\n",
    "import matplotlib.pyplot as plt"
   ]
  },
  {
   "cell_type": "code",
   "execution_count": 2,
   "metadata": {},
   "outputs": [],
   "source": [
    "# Reproducibility\n",
    "torch.manual_seed(0)\n",
    "np.random.seed(0)"
   ]
  },
  {
   "cell_type": "markdown",
   "metadata": {},
   "source": [
    "## Data Generate"
   ]
  },
  {
   "cell_type": "code",
   "execution_count": 3,
   "metadata": {
    "ExecuteTime": {
     "end_time": "2018-09-01T11:03:29.839496Z",
     "start_time": "2018-09-01T11:03:29.832402Z"
    }
   },
   "outputs": [],
   "source": [
    "# data\n",
    "var = 0.2\n",
    "def func(x):\n",
    "    return x\n",
    "\n",
    "def gen_x():\n",
    "    return np.sign(np.random.normal(0.,1.,[data_size,1]))\n",
    "\n",
    "def gen_y(x):\n",
    "    return func(x)+np.random.normal(0.,np.sqrt(var),[data_size,1])"
   ]
  },
  {
   "cell_type": "markdown",
   "metadata": {},
   "source": [
    "## True Mutual Information"
   ]
  },
  {
   "cell_type": "code",
   "execution_count": 4,
   "metadata": {
    "ExecuteTime": {
     "end_time": "2018-09-01T11:03:30.719066Z",
     "start_time": "2018-09-01T11:03:30.554685Z"
    }
   },
   "outputs": [],
   "source": [
    "data_size = 1000000\n",
    "x=gen_x()\n",
    "y=gen_y(x)\n",
    "p_y_x=np.exp(-(y-x)**2/(2*var))\n",
    "p_y_x_minus=np.exp(-(y+1)**2/(2*var))\n",
    "p_y_x_plus=np.exp(-(y-1)**2/(2*var))\n",
    "mi_trad=np.average(np.log(p_y_x/(0.5*p_y_x_minus+0.5*p_y_x_plus)))"
   ]
  },
  {
   "cell_type": "code",
   "execution_count": 5,
   "metadata": {},
   "outputs": [
    {
     "data": {
      "image/png": "[encoded data removed]",
      "text/plain": [
       "<Figure size 432x288 with 1 Axes>"
      ]
     },
     "metadata": {},
     "output_type": "display_data"
    }
   ],
   "source": [
    "plt.hist(x.ravel(), bins=100, density=True, label='p(x)')\n",
    "plt.hist(y.ravel(), bins=100, density=True, label='p(y)')\n",
    "plt.ylim([0, 3])\n",
    "plt.legend()\n",
    "plt.title('Data')\n",
    "plt.savefig('./fig/data.png', dpi=300)"
   ]
  },
  {
   "cell_type": "markdown",
   "metadata": {
    "ExecuteTime": {
     "end_time": "2018-08-31T04:36:40.155790Z",
     "start_time": "2018-08-31T04:36:40.147921Z"
    }
   },
   "source": [
    "# MINE\n",
    "\n",
    "$$\n",
    "KL(p||q) = \\underset{f}{\\mathrm{sup}}\\left[\\mathbb{E}_p[f] - \\log(\\mathbb{E}_q[e^f])\\right]\n",
    "$$"
   ]
  },
  {
   "cell_type": "code",
   "execution_count": 6,
   "metadata": {
    "ExecuteTime": {
     "end_time": "2018-09-01T11:03:46.033170Z",
     "start_time": "2018-09-01T11:03:31.313784Z"
    },
    "scrolled": true
   },
   "outputs": [
    {
     "name": "stderr",
     "output_type": "stream",
     "text": [
      "100%|██████████| 500/500 [00:05<00:00, 90.04it/s] \n"
     ]
    }
   ],
   "source": [
    "H=10\n",
    "n_epoch = 500\n",
    "data_size = 20000\n",
    "\n",
    "class Net(nn.Module):\n",
    "    def __init__(self):\n",
    "        super(Net, self).__init__()\n",
    "        self.fc1 = nn.Linear(1, H)\n",
    "        self.fc2 = nn.Linear(1, H)\n",
    "        self.fc3 = nn.Linear(H, 1)\n",
    "\n",
    "    def forward(self, x, y):\n",
    "        h1 = F.relu(self.fc1(x)+self.fc2(y))\n",
    "        h2 = self.fc3(h1)\n",
    "        return h2    \n",
    "\n",
    "model = Net()\n",
    "optimizer = torch.optim.Adam(model.parameters(), lr=0.01)\n",
    "MI_MINE = []\n",
    "for epoch in tqdm(range(n_epoch)):\n",
    "    x_sample=gen_x()\n",
    "    y_sample=gen_y(x_sample)\n",
    "    y_shuffle=np.random.permutation(y_sample)\n",
    "    \n",
    "    x_sample = torch.from_numpy(x_sample).type(torch.FloatTensor)\n",
    "    y_sample = torch.from_numpy(y_sample).type(torch.FloatTensor)\n",
    "    y_shuffle = torch.from_numpy(y_shuffle).type(torch.FloatTensor)\n",
    "    \n",
    "    pred_xy = model(x_sample, y_sample)\n",
    "    pred_x_y = model(x_sample, y_shuffle)\n",
    "\n",
    "    ret = torch.mean(pred_xy) - torch.log(torch.mean(torch.exp(pred_x_y)))\n",
    "    loss = -ret  # maximize\n",
    "    MI_MINE.append(-loss.data.numpy())\n",
    "    model.zero_grad()\n",
    "    loss.backward()\n",
    "    optimizer.step()\n",
    "    "
   ]
  },
  {
   "cell_type": "markdown",
   "metadata": {},
   "source": [
    "## MINE using $f$-divergence formulation\n",
    "\n",
    "$$\n",
    "KL(p||q) = \\underset{f}{\\mathrm{sup}}\\left[\\mathbb{E}_p[f] - \\mathbb{E}_q[e^{f-1}]\\right]\n",
    "$$"
   ]
  },
  {
   "cell_type": "code",
   "execution_count": 7,
   "metadata": {},
   "outputs": [
    {
     "name": "stderr",
     "output_type": "stream",
     "text": [
      "100%|██████████| 500/500 [00:04<00:00, 124.32it/s]\n"
     ]
    }
   ],
   "source": [
    "H=10\n",
    "n_epoch = 500\n",
    "data_size = 20000\n",
    "\n",
    "class Net(nn.Module):\n",
    "    def __init__(self):\n",
    "        super(Net, self).__init__()\n",
    "        self.fc1 = nn.Linear(1, H)\n",
    "        self.fc2 = nn.Linear(1, H)\n",
    "        self.fc3 = nn.Linear(H, 1)\n",
    "\n",
    "    def forward(self, x, y):\n",
    "        h1 = F.relu(self.fc1(x)+self.fc2(y))\n",
    "        h2 = self.fc3(h1)\n",
    "        return h2    \n",
    "\n",
    "model = Net()\n",
    "optimizer = torch.optim.Adam(model.parameters(), lr=0.01)\n",
    "MI_MINEf = []\n",
    "for epoch in tqdm(range(n_epoch)):\n",
    "    x_sample=gen_x()\n",
    "    y_sample=gen_y(x_sample)\n",
    "    y_shuffle=np.random.permutation(y_sample)\n",
    "    \n",
    "    x_sample = torch.from_numpy(x_sample).type(torch.FloatTensor)\n",
    "    y_sample = torch.from_numpy(y_sample).type(torch.FloatTensor)\n",
    "    y_shuffle = torch.from_numpy(y_shuffle).type(torch.FloatTensor)\n",
    "    \n",
    "    pred_xy = model(x_sample, y_sample)\n",
    "    pred_x_y = model(x_sample, y_shuffle)\n",
    "\n",
    "    ret = torch.mean(pred_xy) - torch.mean(torch.exp(pred_x_y - 1))\n",
    "    loss = -ret  # maximize\n",
    "    MI_MINEf.append(-loss.data.numpy())\n",
    "    model.zero_grad()\n",
    "    loss.backward()\n",
    "    optimizer.step()\n",
    "    "
   ]
  },
  {
   "cell_type": "markdown",
   "metadata": {
    "ExecuteTime": {
     "end_time": "2018-08-31T04:36:40.155790Z",
     "start_time": "2018-08-31T04:36:40.147921Z"
    }
   },
   "source": [
    "# Density Ratio Trick"
   ]
  },
  {
   "cell_type": "code",
   "execution_count": 8,
   "metadata": {},
   "outputs": [
    {
     "name": "stderr",
     "output_type": "stream",
     "text": [
      "100%|██████████| 500/500 [00:10<00:00, 46.29it/s]\n"
     ]
    }
   ],
   "source": [
    "H=10\n",
    "n_epoch = 500\n",
    "data_size = 20000\n",
    "\n",
    "class Net(nn.Module):\n",
    "    def __init__(self):\n",
    "        super(Net, self).__init__()\n",
    "        self.fc1 = nn.Linear(2, H)\n",
    "        self.fc2 = nn.Linear(H, H)\n",
    "        self.fc3 = nn.Linear(H, 1)\n",
    "\n",
    "    def forward(self, x):\n",
    "        h1 = F.relu(self.fc1(x))\n",
    "        h2 = F.relu(self.fc2(h1))\n",
    "        h3 = self.fc3(h2)\n",
    "        return h3    \n",
    "\n",
    "model = Net()\n",
    "crit = torch.nn.BCEWithLogitsLoss()\n",
    "optimizer = torch.optim.Adam(model.parameters(), lr=0.005)\n",
    "plot_loss = []\n",
    "MI_density_ratio = []\n",
    "for epoch in tqdm(range(n_epoch)):\n",
    "    x_sample=gen_x()\n",
    "    y_sample=gen_y(x_sample)\n",
    "    y_shuffle=np.random.permutation(y_sample)\n",
    "    \n",
    "    x_sample = torch.from_numpy(x_sample).type(torch.FloatTensor)\n",
    "    y_sample = torch.from_numpy(y_sample).type(torch.FloatTensor)\n",
    "    y_shuffle = torch.from_numpy(y_shuffle).type(torch.FloatTensor)\n",
    "    \n",
    "    p_xy = torch.cat([x_sample, y_sample], dim=1)\n",
    "    p_x_y = torch.cat([x_sample, y_shuffle], dim=1)\n",
    "    labels = torch.cat([torch.ones(p_xy.size(0)), torch.zeros(p_x_y.size(0))])\n",
    "    \n",
    "    data_x = torch.cat([p_xy, p_x_y])\n",
    "    logits = model(data_x)\n",
    "    loss = crit(logits, labels.view(-1, 1))\n",
    "    \n",
    "    plot_loss.append(loss.data.numpy())\n",
    "    z = model(p_xy)\n",
    "    MI_density_ratio.append(((torch.sigmoid(z))/(1-torch.sigmoid(z))).log().mean().data.numpy())\n",
    "    model.zero_grad()\n",
    "    loss.backward()\n",
    "    optimizer.step()"
   ]
  },
  {
   "cell_type": "markdown",
   "metadata": {},
   "source": [
    "# Comparison"
   ]
  },
  {
   "cell_type": "code",
   "execution_count": 9,
   "metadata": {
    "ExecuteTime": {
     "end_time": "2018-09-01T11:03:46.236451Z",
     "start_time": "2018-09-01T11:03:46.108417Z"
    },
    "scrolled": true
   },
   "outputs": [
    {
     "data": {
      "image/png": "[encoded data removed]",
      "text/plain": [
       "<Figure size 576x360 with 1 Axes>"
      ]
     },
     "metadata": {},
     "output_type": "display_data"
    }
   ],
   "source": [
    "plt.figure(figsize=[8, 5])\n",
    "plot_x = np.arange(len(MI_density_ratio))\n",
    "plt.plot(plot_x, MI_density_ratio, label='Density Ratio Trick')\n",
    "plt.plot(plot_x, MI_MINE, label='MINE')\n",
    "plt.plot(plot_x, MI_MINEf, label=r'MINE-$f$')\n",
    "plt.plot(plot_x, [mi_trad] * plot_x.size, label='True MI', linewidth=2)\n",
    "plt.xlabel('Iteration')\n",
    "plt.ylabel('Mutual Information')\n",
    "plt.legend()\n",
    "plt.savefig('./fig/results.png', dpi=300)"
   ]
  },
  {
   "cell_type": "code",
   "execution_count": null,
   "metadata": {},
   "outputs": [],
   "source": []
  }
 ],
 "metadata": {
  "gist": {
   "data": {
    "description": "mine.ipynb",
    "public": true
   },
   "id": ""
  },
  "hide_input": false,
  "kernelspec": {
   "display_name": "Python 3",
   "language": "python",
   "name": "python3"
  },
  "language_info": {
   "codemirror_mode": {
    "name": "ipython",
    "version": 3
   },
   "file_extension": ".py",
   "mimetype": "text/x-python",
   "name": "python",
   "nbconvert_exporter": "python",
   "pygments_lexer": "ipython3",
   "version": "3.6.5"
  },
  "toc": {
   "base_numbering": 1,
   "nav_menu": {},
   "number_sections": true,
   "sideBar": true,
   "skip_h1_title": false,
   "title_cell": "Table of Contents",
   "title_sidebar": "Contents",
   "toc_cell": false,
   "toc_position": {},
   "toc_section_display": true,
   "toc_window_display": true
  },
  "varInspector": {
   "cols": {
    "lenName": 16,
    "lenType": 16,
    "lenVar": 40
   },
   "kernels_config": {
    "python": {
     "delete_cmd_postfix": "",
     "delete_cmd_prefix": "del ",
     "library": "var_list.py",
     "varRefreshCmd": "print(var_dic_list())"
    },
    "r": {
     "delete_cmd_postfix": ") ",
     "delete_cmd_prefix": "rm(",
     "library": "var_list.r",
     "varRefreshCmd": "cat(var_dic_list()) "
    }
   },
   "position": {
    "height": "662px",
    "left": "1281.7646484375px",
    "right": "20px",
    "top": "120px",
    "width": "351px"
   },
   "types_to_exclude": [
    "module",
    "function",
    "builtin_function_or_method",
    "instance",
    "_Feature"
   ],
   "window_display": false
  }
 },
 "nbformat": 4,
 "nbformat_minor": 2
}
